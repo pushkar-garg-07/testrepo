{
 "cells": [
  {
   "cell_type": "markdown",
   "id": "4aa4a121-04c7-42a0-a7c4-f8d698ac109e",
   "metadata": {},
   "source": [
    "# DATA SCIENCE TOOLS AND ECOSYSTEM\n"
   ]
  },
  {
   "cell_type": "markdown",
   "id": "6f69323a-a283-4250-a258-ffce4d670a4b",
   "metadata": {},
   "source": [
    "IN THIS NOTEBOOK, DATA SCIENCE TOOLS AND ECOSYSTEM ARE SUMMARIZED"
   ]
  },
  {
   "cell_type": "markdown",
   "id": "233482eb-e95c-4f33-b2bc-fd7d14b11ed4",
   "metadata": {},
   "source": [
    "Some of the popular languages that Data Scientists use are:\n",
    "1. PYTHON\n",
    "2. R\n",
    "3. SQL\n"
   ]
  },
  {
   "cell_type": "markdown",
   "id": "c031962d-1dbf-4939-8d22-5dfb69675c31",
   "metadata": {},
   "source": [
    "Some of the commonly used libraries used by Data Scientists include:\n",
    "1. MATPLOTLIB\n",
    "2. PANDAS\n",
    "3. NUMPY\n",
    "4. SEABORN\n",
    "5. SCIKIT LEARN\n",
    "6. TENSOR FLOW\n",
    "7. PYTORCH\n"
   ]
  },
  {
   "cell_type": "markdown",
   "id": "9f83a899-e382-46e7-8107-797d9f0a7afa",
   "metadata": {},
   "source": [
    "| DATA SCIENCE TOOLS |\n",
    "|------------------|\n",
    "| JUPYTER NOTEBOOK|\n",
    "| JUPYTER LAB |\n",
    "| PYCHARM|\n",
    "| VS STUDIO CODE|\n"
   ]
  },
  {
   "cell_type": "markdown",
   "id": "c8512a21-3d6c-40b1-9e7e-b194909440f5",
   "metadata": {},
   "source": [
    "### Below are a few examples of evaluating arithmetic expressions in Python"
   ]
  },
  {
   "cell_type": "code",
   "execution_count": 1,
   "id": "fff9c260-3d3a-483f-affc-589fb149dd8f",
   "metadata": {},
   "outputs": [
    {
     "data": {
      "text/plain": [
       "17"
      ]
     },
     "execution_count": 1,
     "metadata": {},
     "output_type": "execute_result"
    }
   ],
   "source": [
    "# This a simple arithmetic expression to mutiply then add integers\n",
    "(3*4)+5"
   ]
  },
  {
   "cell_type": "code",
   "execution_count": 2,
   "id": "5650c352-cd12-469f-b669-73a5a3916c25",
   "metadata": {},
   "outputs": [
    {
     "data": {
      "text/plain": [
       "3.3333333333333335"
      ]
     },
     "execution_count": 2,
     "metadata": {},
     "output_type": "execute_result"
    }
   ],
   "source": [
    "# This will convert 200 minutes to hours by diving by 60.\n",
    "200/60"
   ]
  },
  {
   "cell_type": "markdown",
   "id": "720e4638-4ffa-4a3b-b05c-88ae1cc2b671",
   "metadata": {},
   "source": [
    "### **OBJECTIVES:**\n",
    "- OPEN SOURCE TOOLS FOR DATA SCIENCE\n",
    "- LANGUAGES OF DATA SCIENCE\n",
    "-  API,DATASETS AND LIBRARIES\n",
    "-  RSTUDIO AND GITHUB\n",
    "-  JUPYTER NOTEBOOK AND JUPTER LABS"
   ]
  },
  {
   "cell_type": "markdown",
   "id": "17e3b24b-e08f-4abe-91f1-f9348a7cb7e8",
   "metadata": {},
   "source": [
    "## AUTHOR\n",
    "PUSHKAR GARG"
   ]
  }
 ],
 "metadata": {
  "kernelspec": {
   "display_name": "Python [conda env:base] *",
   "language": "python",
   "name": "conda-base-py"
  },
  "language_info": {
   "codemirror_mode": {
    "name": "ipython",
    "version": 3
   },
   "file_extension": ".py",
   "mimetype": "text/x-python",
   "name": "python",
   "nbconvert_exporter": "python",
   "pygments_lexer": "ipython3",
   "version": "3.12.7"
  }
 },
 "nbformat": 4,
 "nbformat_minor": 5
}
